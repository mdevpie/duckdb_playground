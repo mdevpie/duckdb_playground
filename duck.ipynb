{
 "cells": [
  {
   "cell_type": "code",
   "execution_count": 1,
   "id": "75350854-c70a-4c77-b1c0-e8088e6ca29d",
   "metadata": {},
   "outputs": [],
   "source": [
    "import pandas as pd\n",
    "import duckdb\n",
    "import matplotlib.pyplot as plt\n",
    "\n",
    "# Create a DuckDB connection\n",
    "con = duckdb.connect()\n"
   ]
  },
  {
   "cell_type": "code",
   "execution_count": 2,
   "id": "d364b127-9947-4a4b-8527-612587d5bc3a",
   "metadata": {},
   "outputs": [
    {
     "name": "stdout",
     "output_type": "stream",
     "text": [
      "   Service Request ID Service Request  Str Num Str Prefix  \\\n",
      "0          1248347489     17-00042325      NaN       None   \n",
      "1          1164245682     15-00337642      NaN       None   \n",
      "2          1214024834     16-00291778   9400.0       None   \n",
      "3          1145374933     15-00042174   4100.0       None   \n",
      "4          1229955921     16-00501361   6105.0       None   \n",
      "\n",
      "                           Str Nam Str Suffix   Zone  \\\n",
      "0      HILLCREST RD & ABERDEEN AVE       None   None   \n",
      "1  N JIM MILLER RD & MILITARY PKWY       None  75227   \n",
      "2                      TIMBERBLUFF         RD  75249   \n",
      "3                             PARK         LN  75220   \n",
      "4                         OVERLOOK         DR  75227   \n",
      "\n",
      "                       Department Nuisance  Status             Created  \\\n",
      "0  Code Compliance District Group     None  CLOSED 2017-01-31 14:40:00   \n",
      "1  Code Compliance District Group     None  CLOSED 2015-07-25 09:16:00   \n",
      "2  Code Compliance District Group     None  CLOSED 2016-06-16 14:19:00   \n",
      "3  Code Compliance District Group     None  CLOSED 2015-02-05 08:00:00   \n",
      "4  Code Compliance District Group     None  CLOSED 2016-09-29 15:59:00   \n",
      "\n",
      "       Completed Date Method Received Description      X_Value      Y_Value  \\\n",
      "0 2017-01-31 14:40:00                   Proactive  2494375.923  7008182.355   \n",
      "1 2015-07-25 09:22:00                   Proactive  2521662.299  6968807.967   \n",
      "2                 NaT                   Proactive  2446287.189  6918035.150   \n",
      "3 2015-02-05 08:07:00                   Proactive  2477262.378  7005402.138   \n",
      "4 2016-10-05 09:44:00                   Proactive  2516915.733  6968527.250   \n",
      "\n",
      "     Type                               Location             Updated  \\\n",
      "0  Zoning                                   None 2017-01-31 14:41:00   \n",
      "1  Zoning                                   None 2015-07-25 09:23:00   \n",
      "2  Zoning  9400 TIMBERBLUFF RD\\nDallas, TX 75249 2016-06-16 14:41:00   \n",
      "3  Zoning         4100 PARK LN\\nDallas, TX 75220 2015-02-05 08:07:00   \n",
      "4  Zoning     6105 OVERLOOK DR\\nDallas, TX 75227 2016-10-05 09:46:00   \n",
      "\n",
      "                         filename  \n",
      "0  ./Code_Violations_20241027.csv  \n",
      "1  ./Code_Violations_20241027.csv  \n",
      "2  ./Code_Violations_20241027.csv  \n",
      "3  ./Code_Violations_20241027.csv  \n",
      "4  ./Code_Violations_20241027.csv  \n"
     ]
    }
   ],
   "source": [
    "        # Load data from CSV into a DataFrame\n",
    "        df = con.sql(\"\"\"\n",
    "                    SELECT * from read_csv_auto('./Code_Violations_20241027.csv',\n",
    "                     header=True,\n",
    "                     filename=True,\n",
    "                     types={'Zone': 'VARCHAR'})\n",
    "                \"\"\").df()\n",
    "        print(df.head())\n"
   ]
  },
  {
   "cell_type": "code",
   "execution_count": 8,
   "id": "9ac7ac25-9e6e-4bde-9f4f-c3b79212ebc4",
   "metadata": {},
   "outputs": [
    {
     "data": {
      "text/plain": [
       "<Axes: >"
      ]
     },
     "execution_count": 8,
     "metadata": {},
     "output_type": "execute_result"
    },
    {
     "data": {
      "image/png": "[encoded data removed]",
      "text/plain": [
       "<Figure size 640x480 with 1 Axes>"
      ]
     },
     "metadata": {},
     "output_type": "display_data"
    }
   ],
   "source": [
    "# Query to get violation count by Zone\n",
    "df3 = con.sql(\"\"\"\n",
    "            SELECT CAST(Zone as VARCHAR) as Zipcode, COUNT(Zone) as violation_count\n",
    "            FROM df\n",
    "            GROUP BY Zone HAVING COUNT(Zone) > 1000\n",
    "            ORDER BY violation_count DESC\n",
    "        \"\"\").df()\n",
    "df3\n",
    "df3.boxplot()"
   ]
  },
  {
   "cell_type": "code",
   "execution_count": 12,
   "id": "f3318219-da6d-415b-b41f-37f242c66ff3",
   "metadata": {},
   "outputs": [
    {
     "data": {
      "text/plain": [
       "┌──────────────────────────────────────────────────────────┐\n",
       "│                         Nuisance                         │\n",
       "│                         varchar                          │\n",
       "├──────────────────────────────────────────────────────────┤\n",
       "│ Bulky Trash Violations - CCS                             │\n",
       "│ Dumpster Violation - CCS                                 │\n",
       "│ Garage Sale - CCS                                        │\n",
       "│ Garage Sale Tracking - CCS                               │\n",
       "│ Graffiti Abatement Request - CCS                         │\n",
       "│ Graffiti Consent Form - CCS                              │\n",
       "│ Graffiti Private Property - Residential/Commercial - CCS │\n",
       "│ Hand Bills/Fliers Complaint - CCS                        │\n",
       "│ High Weeds - CCS                                         │\n",
       "│ Illegal Dumping - CCS                                    │\n",
       "│           ·                                              │\n",
       "│           ·                                              │\n",
       "│           ·                                              │\n",
       "│ Noise Pollution - CCS                                    │\n",
       "│ Obstruction Alley/Sidewalk/Street - CCS                  │\n",
       "│ Obstruction Corner Clip - CCS                            │\n",
       "│ Oversized Vehicle - CCS                                  │\n",
       "│ Rodents/Vector Control - CCS                             │\n",
       "│ Shopping Cart Decal Violation - CCS                      │\n",
       "│ Sidewalk Violations Hazardous - CCS                      │\n",
       "│ Smoking/Restaurant Complaint - CCS                       │\n",
       "│ Water Conservation Violation - CCS                       │\n",
       "│ NULL                                                     │\n",
       "├──────────────────────────────────────────────────────────┤\n",
       "│                    25 rows (20 shown)                    │\n",
       "└──────────────────────────────────────────────────────────┘"
      ]
     },
     "execution_count": 12,
     "metadata": {},
     "output_type": "execute_result"
    }
   ],
   "source": [
    "df4 = con.sql(\"select distinct Nuisance from df order by Nuisance\")\n",
    "pd.options.display.max_rows = 100\n",
    "df4"
   ]
  }
 ],
 "metadata": {
  "kernelspec": {
   "display_name": "duck",
   "language": "python",
   "name": "ddb"
  },
  "language_info": {
   "codemirror_mode": {
    "name": "ipython",
    "version": 3
   },
   "file_extension": ".py",
   "mimetype": "text/x-python",
   "name": "python",
   "nbconvert_exporter": "python",
   "pygments_lexer": "ipython3",
   "version": "3.12.6"
  }
 },
 "nbformat": 4,
 "nbformat_minor": 5
}
